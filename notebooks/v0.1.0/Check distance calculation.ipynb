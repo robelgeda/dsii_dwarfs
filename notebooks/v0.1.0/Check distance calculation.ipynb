{
 "cells": [
  {
   "cell_type": "code",
   "execution_count": 1,
   "metadata": {},
   "outputs": [],
   "source": [
    "import numpy as np\n",
    "from make_galaxies import SimulateRandomDwarfElliptical,simulate_HSC\n",
    "import make_galaxies\n",
    "from astropy.convolution import convolve_fft\n",
    "from inspect_galaxies import inspect, inspectall, inspectsum"
   ]
  },
  {
   "cell_type": "code",
   "execution_count": 2,
   "metadata": {},
   "outputs": [],
   "source": [
    "# Matplotlib\n",
    "import matplotlib.pyplot as plt\n",
    "%matplotlib inline"
   ]
  },
  {
   "cell_type": "code",
   "execution_count": 13,
   "metadata": {},
   "outputs": [
    {
     "name": "stdout",
     "output_type": "stream",
     "text": [
      "mass:  5.040024436445043\n",
      "distance:  4.463143732690051\n",
      "re_kpc, arcsec, pixels:  0.054125807314025796 2.5064731495007044 74.59741516371143\n",
      "[Fe/H]:  -2.0\n",
      "age:  9.377879196501018\n",
      "ellip:  0.15331760141120965\n",
      "pa:  0.669306570944325\n"
     ]
    }
   ],
   "source": [
    "sim = SimulateRandomDwarfElliptical(dmax=15.,MF_min=1.e5,MF_max=1.e6)\n",
    "sim.pick_galaxy()\n",
    "print(\"mass: \",np.log10(sim.mass))\n",
    "print(\"distance: \",sim.distance)\n",
    "print(\"re_kpc, arcsec, pixels: \",sim.re_kpc, sim.re_arcsec,sim.re_pixels)\n",
    "print(\"[Fe/H]: \",sim.feh)\n",
    "print(\"age: \",sim.age)\n",
    "print(\"ellip: \",sim.ellipticity)\n",
    "print(\"pa: \",sim.position_angle)"
   ]
  },
  {
   "cell_type": "code",
   "execution_count": 14,
   "metadata": {},
   "outputs": [
    {
     "data": {
      "text/plain": [
       "2.5014316874500975"
      ]
     },
     "execution_count": 14,
     "metadata": {},
     "output_type": "execute_result"
    }
   ],
   "source": [
    "(sim.re_kpc/(sim.distance*1.e3))*3600.*180./np.pi # arcseconds small-angle approximation"
   ]
  },
  {
   "cell_type": "code",
   "execution_count": 11,
   "metadata": {},
   "outputs": [
    {
     "data": {
      "text/plain": [
       "1.7039792889953347"
      ]
     },
     "execution_count": 11,
     "metadata": {},
     "output_type": "execute_result"
    }
   ],
   "source": [
    "np.arctan(sim.re_kpc/(sim.distance*1.e3))*3600.*180./np.pi"
   ]
  },
  {
   "cell_type": "code",
   "execution_count": 21,
   "metadata": {},
   "outputs": [
    {
     "data": {
      "text/plain": [
       "74.4047619047619"
      ]
     },
     "execution_count": 21,
     "metadata": {},
     "output_type": "execute_result"
    }
   ],
   "source": [
    "2.5/(0.168/5.)"
   ]
  },
  {
   "cell_type": "code",
   "execution_count": 20,
   "metadata": {},
   "outputs": [
    {
     "data": {
      "text/plain": [
       "0.16800000000000004"
      ]
     },
     "execution_count": 20,
     "metadata": {},
     "output_type": "execute_result"
    }
   ],
   "source": [
    "5.*sim.arcsec_per_pixel"
   ]
  },
  {
   "cell_type": "code",
   "execution_count": 22,
   "metadata": {},
   "outputs": [
    {
     "data": {
      "text/plain": [
       "14.88095238095238"
      ]
     },
     "execution_count": 22,
     "metadata": {},
     "output_type": "execute_result"
    }
   ],
   "source": [
    "2.5/0.168"
   ]
  },
  {
   "cell_type": "code",
   "execution_count": null,
   "metadata": {},
   "outputs": [],
   "source": []
  }
 ],
 "metadata": {
  "kernelspec": {
   "display_name": "Python 3",
   "language": "python",
   "name": "python3"
  },
  "language_info": {
   "codemirror_mode": {
    "name": "ipython",
    "version": 3
   },
   "file_extension": ".py",
   "mimetype": "text/x-python",
   "name": "python",
   "nbconvert_exporter": "python",
   "pygments_lexer": "ipython3",
   "version": "3.6.8"
  }
 },
 "nbformat": 4,
 "nbformat_minor": 2
}
