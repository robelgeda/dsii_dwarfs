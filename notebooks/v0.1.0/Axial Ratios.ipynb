{
 "cells": [
  {
   "cell_type": "markdown",
   "metadata": {},
   "source": [
    "# Draw dE galaxy axial ratios from an empirical distribution\n",
    "\n",
    "We would like our simulated dwarf-elliptical galaxies to have a reasonable distribution\n",
    "of axial ratios. There is an empirical distribution for Virgo Cluster dE galaxies in \n",
    "Sanchez-Janssen 2016, ApJ 820, 69 doi:10.3847/0004-637X/820/1/69. We turned this into a table for the distribution of observed axial ratios ${\\rm pdf}(q)$ by digitizing the grey curve in their Figure 9 using graphclick. \n",
    "\n",
    "We can then use `scipy.interpolate.interp1D` to interpolate into this pdf, and then create a function that is a subclass of `scipy.stats.rv_continuous` to let us draw from this PDF. "
   ]
  },
  {
   "cell_type": "code",
   "execution_count": 1,
   "metadata": {},
   "outputs": [],
   "source": [
    "import numpy as np\n",
    "from scipy import stats\n",
    "from scipy import integrate\n",
    "from scipy import interpolate\n",
    "from astropy.table import Table\n",
    "from scipy.stats import rv_continuous"
   ]
  },
  {
   "cell_type": "code",
   "execution_count": 2,
   "metadata": {},
   "outputs": [],
   "source": [
    "# Matplotlib\n",
    "import matplotlib.pyplot as plt\n",
    "%matplotlib inline"
   ]
  },
  {
   "cell_type": "code",
   "execution_count": 3,
   "metadata": {},
   "outputs": [],
   "source": [
    "plt.rcParams['figure.figsize'] = [5, 5]"
   ]
  },
  {
   "cell_type": "code",
   "execution_count": null,
   "metadata": {},
   "outputs": [],
   "source": [
    "# Create a function that returns the PDF of the axial ratio\n",
    "# Empirical virgo-cluster dE distribution taken from \n",
    "# Sanchez-Janssen 2016, ApJ 820, 69 doi:10.3847/0004-637X/820/1/69\n",
    "# Normalize PDF via numerical integral (it was pretty close to normalized to begin with)\n",
    "# While it's not necessary to add the _cdf routine, it speeds up the rvs draws by a huge factor\n",
    "class AxialRatioPDF(rv_continuous):\n",
    "    def __init__(self,**args):\n",
    "        super(AxialRatioPDF,self).__init__(a=0.,b=1.,**args)\n",
    "        self.qdist = Table.read('data/sanchez-janssen_fig9.txt',format='ascii.commented_header')\n",
    "        self.normalization = integrate.trapz(self.qdist['pdf'],self.qdist['q'])\n",
    "        self.qfunc = interpolate.interp1d(self.qdist['q'],self.qdist['pdf'],kind='linear')\n",
    "        qsamples = np.arange(0,1.01,0.01)\n",
    "        cdf_samples = np.array([integrate.quad(self._pdf,0,q)[0] for q in qsamples])\n",
    "        self.cfunc = interpolate.interp1d(qsamples,cdf_samples)\n",
    "    def _pdf(self,q):\n",
    "        return self.qfunc(q)/self.normalization\n",
    "    def _cdf(self,q):\n",
    "        return self.cfunc(q)"
   ]
  },
  {
   "cell_type": "code",
   "execution_count": 4,
   "metadata": {},
   "outputs": [],
   "source": [
    "# Test the script version\n",
    "from axial_ratio_picker import AxialRatioPDF"
   ]
  },
  {
   "cell_type": "code",
   "execution_count": 5,
   "metadata": {},
   "outputs": [
    {
     "name": "stderr",
     "output_type": "stream",
     "text": [
      "/Users/hcferguson/data/dsii_dwarfs/axial_ratio_picker.py:32: IntegrationWarning: The maximum number of subdivisions (50) has been achieved.\n",
      "  If increasing the limit yields no improvement it is advised to analyze \n",
      "  the integrand in order to determine the difficulties.  If the position of a \n",
      "  local difficulty can be determined (singularity, discontinuity) one will \n",
      "  probably gain from splitting up the interval and calling the integrator \n",
      "  on the subranges.  Perhaps a special-purpose integrator should be used.\n",
      "  cdf_samples = np.array([integrate.quad(self._pdf,0,q)[0] for q in qsamples])\n"
     ]
    }
   ],
   "source": [
    "qpdf = AxialRatioPDF(name='qpdf')"
   ]
  },
  {
   "cell_type": "markdown",
   "metadata": {},
   "source": [
    "Verify that the interpolated distribution looks like the input"
   ]
  },
  {
   "cell_type": "code",
   "execution_count": 6,
   "metadata": {},
   "outputs": [
    {
     "data": {
      "text/plain": [
       "<matplotlib.collections.PathCollection at 0x1173b21d0>"
      ]
     },
     "execution_count": 6,
     "metadata": {},
     "output_type": "execute_result"
    },
    {
     "data": {
      "image/png": "[encoded data removed]",
      "text/plain": [
       "<Figure size 360x360 with 1 Axes>"
      ]
     },
     "metadata": {
      "needs_background": "light"
     },
     "output_type": "display_data"
    }
   ],
   "source": [
    "q = np.arange(0,1,0.001)\n",
    "plt.plot(q,qpdf.pdf(q))\n",
    "plt.scatter(qpdf.qdist['q'],qpdf.qdist['pdf'],alpha=0.5)"
   ]
  },
  {
   "cell_type": "markdown",
   "metadata": {},
   "source": [
    "Verify that the pdf integrates to 1"
   ]
  },
  {
   "cell_type": "code",
   "execution_count": 7,
   "metadata": {},
   "outputs": [
    {
     "name": "stderr",
     "output_type": "stream",
     "text": [
      "/Users/hcferguson/anaconda3/envs/astroconda36/lib/python3.6/site-packages/ipykernel_launcher.py:1: IntegrationWarning: The maximum number of subdivisions (50) has been achieved.\n",
      "  If increasing the limit yields no improvement it is advised to analyze \n",
      "  the integrand in order to determine the difficulties.  If the position of a \n",
      "  local difficulty can be determined (singularity, discontinuity) one will \n",
      "  probably gain from splitting up the interval and calling the integrator \n",
      "  on the subranges.  Perhaps a special-purpose integrator should be used.\n",
      "  \"\"\"Entry point for launching an IPython kernel.\n"
     ]
    },
    {
     "data": {
      "text/plain": [
       "(1.0000343332140393, 0.0002048140500744422)"
      ]
     },
     "execution_count": 7,
     "metadata": {},
     "output_type": "execute_result"
    }
   ],
   "source": [
    "integrate.quad(qpdf.pdf,0,1)"
   ]
  },
  {
   "cell_type": "code",
   "execution_count": 8,
   "metadata": {},
   "outputs": [],
   "source": [
    "N=1000 # number of galaxies\n",
    "g = qpdf.rvs(size=N)"
   ]
  },
  {
   "cell_type": "code",
   "execution_count": 9,
   "metadata": {},
   "outputs": [
    {
     "data": {
      "text/plain": [
       "[<matplotlib.lines.Line2D at 0x117444f98>]"
      ]
     },
     "execution_count": 9,
     "metadata": {},
     "output_type": "execute_result"
    },
    {
     "data": {
      "image/png": "[encoded data removed]",
      "text/plain": [
       "<Figure size 360x360 with 1 Axes>"
      ]
     },
     "metadata": {
      "needs_background": "light"
     },
     "output_type": "display_data"
    }
   ],
   "source": [
    "step=0.05\n",
    "foo = plt.hist(g,np.arange(0.,1.05,step),alpha=0.5)\n",
    "q = np.arange(0,1,step/100.)\n",
    "plt.plot(q,N*qpdf.pdf(q)*step)"
   ]
  }
 ],
 "metadata": {
  "kernelspec": {
   "display_name": "Python 3",
   "language": "python",
   "name": "python3"
  },
  "language_info": {
   "codemirror_mode": {
    "name": "ipython",
    "version": 3
   },
   "file_extension": ".py",
   "mimetype": "text/x-python",
   "name": "python",
   "nbconvert_exporter": "python",
   "pygments_lexer": "ipython3",
   "version": "3.6.8"
  }
 },
 "nbformat": 4,
 "nbformat_minor": 2
}
