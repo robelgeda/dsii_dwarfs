{
 "cells": [
  {
   "cell_type": "markdown",
   "metadata": {},
   "source": [
    "# Examine the noise in the HSC images"
   ]
  },
  {
   "cell_type": "code",
   "execution_count": 1,
   "metadata": {},
   "outputs": [],
   "source": [
    "import numpy as np\n",
    "from astropy.io import fits\n",
    "from astropy import stats"
   ]
  },
  {
   "cell_type": "code",
   "execution_count": 2,
   "metadata": {},
   "outputs": [],
   "source": [
    "# Visualization\n",
    "from astropy.visualization import (PercentileInterval,AsymmetricPercentileInterval,\n",
    "                                   ImageNormalize, AsinhStretch)\n",
    "import matplotlib.pyplot as plt\n",
    "%matplotlib inline"
   ]
  },
  {
   "cell_type": "code",
   "execution_count": 3,
   "metadata": {},
   "outputs": [],
   "source": [
    "plt.rcParams['figure.figsize'] = [10, 10]"
   ]
  },
  {
   "cell_type": "code",
   "execution_count": 14,
   "metadata": {},
   "outputs": [],
   "source": [
    "hdu = fits.open('HSC/calexp-HSC-G-17130-3,0.fits')\n",
    "data = hdu[1].data"
   ]
  },
  {
   "cell_type": "code",
   "execution_count": null,
   "metadata": {},
   "outputs": [],
   "source": [
    "norm = ImageNormalize(data,interval=AsymmetricPercentileInterval(0.1,99.5),stretch=AsinhStretch(0.1))\n",
    "plt.imshow(data,norm=norm)\n",
    "#plt.imshow(data,vmin=np.percentile(data,1.),vmax=np.percentile(data,99.5))"
   ]
  },
  {
   "cell_type": "code",
   "execution_count": 6,
   "metadata": {},
   "outputs": [
    {
     "data": {
      "text/plain": [
       "(-0.03927014808729291, 6.76523403167829)"
      ]
     },
     "execution_count": 6,
     "metadata": {},
     "output_type": "execute_result"
    }
   ],
   "source": [
    "np.percentile(data,0.1),np.percentile(data,99.9)"
   ]
  },
  {
   "cell_type": "code",
   "execution_count": 9,
   "metadata": {},
   "outputs": [
    {
     "data": {
      "text/plain": [
       "(0.0071194507,\n",
       " 0.017740549355562473,\n",
       " (0.006844064220786095, 0.005600149743258953, 0.01668131910264492))"
      ]
     },
     "execution_count": 9,
     "metadata": {},
     "output_type": "execute_result"
    }
   ],
   "source": [
    "np.median(data),stats.mad_std(data),stats.sigma_clipped_stats(data)"
   ]
  },
  {
   "cell_type": "code",
   "execution_count": 18,
   "metadata": {},
   "outputs": [
    {
     "name": "stdout",
     "output_type": "stream",
     "text": [
      "17130: G mad_std:  0.017740549355562473\n",
      "8283:  G mad_std:  0.044103222204375826\n",
      "17130: R mad_std:  0.02990474870732612\n",
      "8283:  R mad_std:  0.06527874300441547\n",
      "17130: I mad_std:  0.038061441331219865\n",
      "8283:  I mad_std:  0.1429576608190141\n",
      "17130: Z mad_std:  0.060185003546121545\n",
      "8283:  Z mad_std:  0.17481671712569938\n",
      "17130: Y mad_std:  0.1398606023648071\n",
      "8283:  Y mad_std:  0.43618016343062577\n"
     ]
    }
   ],
   "source": [
    "bands = ['G','R','I','Z','Y']\n",
    "for b in bands:\n",
    "    hdu = fits.open(f'HSC/calexp-HSC-{b}-17130-3,0.fits')\n",
    "    data = hdu[1].data\n",
    "#    print(b)\n",
    "#    print(\"median: \",np.median(data))\n",
    "    print(\"17130: \"+b+\" mad_std: \",stats.mad_std(data))\n",
    "    mean,median,std = stats.sigma_clipped_stats(data)\n",
    "#    print(\"sigma clipped mean, median, std: \",mean,median,std)\n",
    "    hdu = fits.open(f'HSC/calexp-HSC-{b}-8283-4,7.fits')\n",
    "    data = hdu[1].data[3500:4000,2400:3800]\n",
    "    print(\"8283:  \"+b+\" mad_std: \",stats.mad_std(data))"
   ]
  },
  {
   "cell_type": "code",
   "execution_count": null,
   "metadata": {},
   "outputs": [],
   "source": []
  }
 ],
 "metadata": {
  "kernelspec": {
   "display_name": "Python 3",
   "language": "python",
   "name": "python3"
  },
  "language_info": {
   "codemirror_mode": {
    "name": "ipython",
    "version": 3
   },
   "file_extension": ".py",
   "mimetype": "text/x-python",
   "name": "python",
   "nbconvert_exporter": "python",
   "pygments_lexer": "ipython3",
   "version": "3.7.3"
  }
 },
 "nbformat": 4,
 "nbformat_minor": 2
}
