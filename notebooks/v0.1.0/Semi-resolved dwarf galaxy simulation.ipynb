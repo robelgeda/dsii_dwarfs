{
 "cells": [
  {
   "cell_type": "markdown",
   "metadata": {},
   "source": [
    "# Simulation of a semi-resolved dwarf galaxy\n",
    "\n",
    "The purpose of this notebook is to sketch out the steps in simulating a semi-resolved dwarf galaxy. The steps are as follows:\n",
    "\n",
    " 1. Select an isochrone\n",
    "     - which gives the colors and luminosities of stars as a function of mass for a particular fixed age and metallicity\n",
    "     - ideally someone has already done the work to compute the colors for the telescope and filter of interest\n",
    "     - There are some nifty isochrones at http://waps.cfa.harvard.edu/MIST/\n",
    " 1. Select a total mass for the dwarf galaxy\n",
    "     - ultimately, at random from a galaxy stellar-mass function (Schechter)\n",
    " 1. Draw star masses at random from an initial mass function \n",
    "     - There is a package for this https://github.com/keflavich/imf. One could also do this with Astropy models no doubt, but that would require more thought.\n",
    "     - need to decide on a lower mass limit for this so we don't spend all our time on stars that don't contribute to fluctuations. Add those in as one additional smooth component, with the right total flux relative to the stars we have added individually.\n",
    "         - simplest shortcut to this is probably to include stars only above the Main-sequence turnoff (in phase >0) in the stochastic component. But for younger populations, we might need to keep Main-sequence stars, so let's make this 1 solar mass or the MSTO, whichever is smaller.  \n",
    "     - draw enough stars that the total mass of the smooth + individual components adds up to the total mass you want for the dwarf galaxy.\n",
    "     - $N_{indiv}$ is the total number of individual stars\n",
    " 1. Create a star catalog by assigning the colors and luminosities to the stars according to the isochrone\n",
    " 1. Choose a distance (or equivalently distance modulus $DM = -5 * log10(distance Mpc) + 25$\n",
    " 1. Convert luminosities to apparent magnitudes using this distance\n",
    " 1. Choose a 2D model profile for the galaxy\n",
    "     - Typically, these galaxies have Sersic profiles with n ~ 1, half-light radii of ~ 0.5-1 kpc and axial ratios between 0.5 and 1\n",
    "     - We will ultimately want to draw these from distribution functions (there are some in the literature)\n",
    "     - This should be oversampled by at least a factor of 4 relative to the pixel sampling of the telescope/survey of choice (e.g. WFIRST, LSST or HSC).  \n",
    " 1. Make an image from the profile where the value in each pixel is the stellar mass, and the total sums to the desired stellar mass\n",
    " 1. For each pixel draw the right number of stars at random from the isochrone\n",
    "     - The mass in the pixel $M_{pix}$ is given from the smooth image we just made\n",
    "     - The number of stars $N_{pix}$ to draw for this pixel is then $N_{indiv} * M_{pix}/M_{tot}$\n",
    "     - Draw $N_{pix}$ stars at random from the star catalog and increment the flux in this (over-resolved) pixel by this amount\n",
    " 1. Add in the flux for the smooth component (which is just the model profile scaled by the mass fraction and multipled by a normalization to get it from mass to luminosity)\n",
    " 1. Convolve this image with an oversampled PSF from the survey of choice \n",
    " 1. Resample to the pixelization of the survey\n",
    " 1. Either add to a real survey image or add sky background and artificial noise\n",
    "    - Quick & dirty is to ignore Poisson noise from the stars and either just add the noiseless image to the survey data, or measure the RMS in blank sky in the survey and use that to set the rms and mean level for the sky background\n",
    "    - Ultimately there are correlations introduced by dithering that we probably need to take into account or simulate\n",
    "    - There is also Poisson noise (photon counting statistics) for the galaxy we just simulated but that's sub-dominant relative to sky: the central surface brightnesses of these galaxies are typically well below the mean sky level.\n",
    " "
   ]
  },
  {
   "cell_type": "code",
   "execution_count": 54,
   "metadata": {},
   "outputs": [],
   "source": [
    "import imf # https://github.com/keflavich/imf\n",
    "from astropy.table import Table\n",
    "from scipy import interpolate\n",
    "import numpy as np\n",
    "from astropy import modeling"
   ]
  },
  {
   "cell_type": "code",
   "execution_count": 55,
   "metadata": {},
   "outputs": [],
   "source": [
    "# Matplotlib\n",
    "import matplotlib.pyplot as plt\n",
    "%matplotlib inline\n",
    "plt.rcParams['figure.figsize'] = [10, 10]"
   ]
  },
  {
   "cell_type": "markdown",
   "metadata": {},
   "source": [
    "Get the WFIRST PSF....skip this this for other telescopes"
   ]
  },
  {
   "cell_type": "code",
   "execution_count": 61,
   "metadata": {},
   "outputs": [],
   "source": [
    "import os\n",
    "os.environ['WEBBPSF_PATH']='/Users/hcferguson/data/wfirst_hackday/'\n",
    "os.environ['PYSYN_CDBS']='/Users/hcferguson/data/pysynphot/grp/hst/cdbs'\n",
    "import webbpsf\n",
    "from webbpsf import wfirst"
   ]
  },
  {
   "cell_type": "code",
   "execution_count": 62,
   "metadata": {},
   "outputs": [],
   "source": [
    "ZPT=27 # Arbitrary zeropoint for making linear fluxes ...might even be the right zeropoint for HSC\n",
    "DM=30\n",
    "isochrone=Table.read('MIST_v1.2_vvcrit0.4_WFIRST/MIST_v1.2_feh_m0.50_afe_p0.0_vvcrit0.4_WFIRST_logage1.03.iso.cmd',\n",
    "                     format='ascii.commented_header')\n",
    "isochrone['jflux']=10**((isochrone['J129']-ZPT+DM)/-2.5)"
   ]
  },
  {
   "cell_type": "markdown",
   "metadata": {},
   "source": [
    "So we don't spend all our time drawing stars that are too faint to contribute significant fluctuations, set a minimum stellar mass for the stochastic component that is either 1 solar mass or the main-sequence turnoff, whichever is smaller. In young stellar populations, the main-sequence stars could be bright & rare enough to contribute fluctuations. In older populations it will be dominated by post-MS stars. "
   ]
  },
  {
   "cell_type": "code",
   "execution_count": 63,
   "metadata": {},
   "outputs": [
    {
     "data": {
      "text/plain": [
       "0.7496743013993817"
      ]
     },
     "execution_count": 63,
     "metadata": {},
     "output_type": "execute_result"
    }
   ],
   "source": [
    "minmass_stochastic = min(1.0,isochrone['initial_mass'][isochrone['phase']<0.1][-1])\n",
    "minmass_stochastic"
   ]
  },
  {
   "cell_type": "code",
   "execution_count": 59,
   "metadata": {},
   "outputs": [
    {
     "name": "stdout",
     "output_type": "stream",
     "text": [
      "Total cluster mass is 100000 (limit was 100000)\n"
     ]
    },
    {
     "data": {
      "text/plain": [
       "100000.41386839672"
      ]
     },
     "execution_count": 59,
     "metadata": {},
     "output_type": "execute_result"
    }
   ],
   "source": [
    "cluster = imf.make_cluster(100000,massfunc='kroupa',mmin=minmass_stochastic)\n",
    "cluster.sum()"
   ]
  },
  {
   "cell_type": "markdown",
   "metadata": {},
   "source": [
    "Compute the fraction of the total mass in the stochastic component (the rest will be in the smooth component)"
   ]
  },
  {
   "cell_type": "code",
   "execution_count": 50,
   "metadata": {},
   "outputs": [
    {
     "data": {
      "text/plain": [
       "0.6081351955205596"
      ]
     },
     "execution_count": 50,
     "metadata": {},
     "output_type": "execute_result"
    }
   ],
   "source": [
    "kroupa = imf.Kroupa()\n",
    "mmax = 200\n",
    "stochastic_mass_fraction = (kroupa.m_integrate(minmass_stochastic, mmax)[0] /\n",
    "                 kroupa.m_integrate(kroupa.mmin, mmax)[0])\n",
    "stochastic_mass_fraction"
   ]
  },
  {
   "cell_type": "markdown",
   "metadata": {},
   "source": [
    "For each random stochastic draw of a mass in the cluster, find the nearest mass to it in the isochrone and make an array of these indices into the isochrone array"
   ]
  },
  {
   "cell_type": "code",
   "execution_count": 22,
   "metadata": {},
   "outputs": [],
   "source": [
    "mass_indices = np.array([(np.abs(isochrone['initial_mass']-m)).argmin() for m in cluster])"
   ]
  },
  {
   "cell_type": "markdown",
   "metadata": {},
   "source": [
    "Make a smooth model galaxy with a Sersic profile"
   ]
  },
  {
   "cell_type": "code",
   "execution_count": 23,
   "metadata": {},
   "outputs": [],
   "source": [
    "N=256\n",
    "x,y = np.meshgrid(np.arange(N),np.arange(N))\n",
    "mod = modeling.models.Sersic2D(amplitude=5000,r_eff=20,n=1,x_0=N/2,y_0=N/2,ellip=0.5,theta=-1)"
   ]
  },
  {
   "cell_type": "code",
   "execution_count": 24,
   "metadata": {},
   "outputs": [
    {
     "data": {
      "text/plain": [
       "26783.469900166623"
      ]
     },
     "execution_count": 24,
     "metadata": {},
     "output_type": "execute_result"
    }
   ],
   "source": [
    "img = mod(x,y)\n",
    "img.max()"
   ]
  },
  {
   "cell_type": "code",
   "execution_count": 25,
   "metadata": {},
   "outputs": [],
   "source": [
    "flux_image = 0*mod(x,y)\n",
    "for xx,yy in zip(x.flatten(),y.flatten()):\n",
    "        if mod(xx,yy) > 0.5:\n",
    "            random_indices = np.random.randint(0,len(mass_indices),size=int(mod(xx,yy)))\n",
    "            flux_image[xx,yy] = isochrone['jflux'][mass_indices[random_indices]].sum()"
   ]
  },
  {
   "cell_type": "code",
   "execution_count": 26,
   "metadata": {},
   "outputs": [
    {
     "data": {
      "text/plain": [
       "<matplotlib.image.AxesImage at 0x10b575a90>"
      ]
     },
     "execution_count": 26,
     "metadata": {},
     "output_type": "execute_result"
    },
    {
     "data": {
      "image/png": "[encoded data removed]",
      "text/plain": [
       "<Figure size 720x720 with 1 Axes>"
      ]
     },
     "metadata": {
      "needs_background": "light"
     },
     "output_type": "display_data"
    }
   ],
   "source": [
    "plt.imshow(flux_image,vmax=5)"
   ]
  },
  {
   "cell_type": "code",
   "execution_count": 53,
   "metadata": {},
   "outputs": [
    {
     "data": {
      "text/plain": [
       "27.0"
      ]
     },
     "execution_count": 53,
     "metadata": {},
     "output_type": "execute_result"
    }
   ],
   "source": [
    "2.5*np.log10(63095734448.0194)"
   ]
  },
  {
   "cell_type": "code",
   "execution_count": null,
   "metadata": {},
   "outputs": [],
   "source": []
  }
 ],
 "metadata": {
  "kernelspec": {
   "display_name": "Python 3",
   "language": "python",
   "name": "python3"
  },
  "language_info": {
   "codemirror_mode": {
    "name": "ipython",
    "version": 3
   },
   "file_extension": ".py",
   "mimetype": "text/x-python",
   "name": "python",
   "nbconvert_exporter": "python",
   "pygments_lexer": "ipython3",
   "version": "3.6.8"
  }
 },
 "nbformat": 4,
 "nbformat_minor": 2
}
