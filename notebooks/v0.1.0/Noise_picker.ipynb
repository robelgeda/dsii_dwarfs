{
 "cells": [
  {
   "cell_type": "markdown",
   "metadata": {},
   "source": [
    "# Get random deviates to use as noise"
   ]
  },
  {
   "cell_type": "code",
   "execution_count": null,
   "metadata": {},
   "outputs": [],
   "source": [
    "import numpy as np\n",
    "from scipy import stats\n",
    "from astropy import stats as astats\n",
    "from astropy.io import fits"
   ]
  },
  {
   "cell_type": "code",
   "execution_count": null,
   "metadata": {},
   "outputs": [],
   "source": [
    "# Visualization\n",
    "import matplotlib.pyplot as plt\n",
    "%matplotlib inline"
   ]
  },
  {
   "cell_type": "code",
   "execution_count": null,
   "metadata": {},
   "outputs": [],
   "source": [
    "class NoisePicker:\n",
    "    \"\"\" Set up the parameters of a Gaussian noise model. \n",
    "        Return deviates from it.\n",
    "    \"\"\"\n",
    "    def __init__(self,sigma=0.02,sigma_range=None):\n",
    "        if sigma_range:\n",
    "            self.min,self.max = sigma_range\n",
    "        else:\n",
    "            self.min,self.max = sigma,sigma\n",
    "    def pick_noise(self,size):\n",
    "        \"\"\" Return an array of random deviates of a given size\"\"\"\n",
    "        self.sigma = np.random.uniform(self.min,self.max)\n",
    "        self.scatter = stats.norm(loc=0,scale=self.sigma)\n",
    "        return self.scatter.rvs(size=size)\n"
   ]
  },
  {
   "cell_type": "code",
   "execution_count": null,
   "metadata": {},
   "outputs": [],
   "source": [
    "# test the script version\n",
    "from noise_picker import NoisePicker"
   ]
  },
  {
   "cell_type": "code",
   "execution_count": null,
   "metadata": {},
   "outputs": [],
   "source": [
    "hdu = fits.open('HSC/calexp-HSC-G-17130-3,0.fits')\n",
    "data = hdu[1].data"
   ]
  },
  {
   "cell_type": "code",
   "execution_count": null,
   "metadata": {},
   "outputs": [],
   "source": [
    "npick = NoisePicker(sigma=0.0177)\n",
    "purenoise = npick.pick_noise(data.shape)\n",
    "plt.figure(figsize=(20, 20))\n",
    "vmin,vmax = np.percentile(data,[2.,98.])\n",
    "region=(slice(1200,1400,1),slice(1200,1400,1))\n",
    "plt.subplot(121)\n",
    "mean,med,sig = astats.sigma_clipped_stats(data[region])\n",
    "plt.imshow(data[region]-mean,vmin=vmin,vmax=vmax)\n",
    "plt.subplot(122)\n",
    "plt.imshow(purenoise[region],vmin=vmin,vmax=vmax)"
   ]
  },
  {
   "cell_type": "code",
   "execution_count": null,
   "metadata": {},
   "outputs": [],
   "source": [
    "npick = NoisePicker(sigma_range=[0.01,0.04])\n",
    "purenoise = npick.pick_noise(data.shape)\n",
    "print(npick.sigma)\n",
    "plt.figure(figsize=(20, 20))\n",
    "vmin,vmax = np.percentile(data,[2.,98.])\n",
    "region=(slice(1200,1400,1),slice(1200,1400,1))\n",
    "plt.subplot(121)\n",
    "mean,med,sig = astats.sigma_clipped_stats(data[region])\n",
    "plt.imshow(data[region]-mean,vmin=vmin,vmax=vmax)\n",
    "plt.subplot(122)\n",
    "plt.imshow(purenoise[region],vmin=vmin,vmax=vmax)"
   ]
  }
 ],
 "metadata": {
  "kernelspec": {
   "display_name": "Python 3",
   "language": "python",
   "name": "python3"
  },
  "language_info": {
   "codemirror_mode": {
    "name": "ipython",
    "version": 3
   },
   "file_extension": ".py",
   "mimetype": "text/x-python",
   "name": "python",
   "nbconvert_exporter": "python",
   "pygments_lexer": "ipython3",
   "version": "3.6.8"
  }
 },
 "nbformat": 4,
 "nbformat_minor": 2
}
