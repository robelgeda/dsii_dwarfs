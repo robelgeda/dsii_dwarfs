{
 "cells": [
  {
   "cell_type": "code",
   "execution_count": 1,
   "metadata": {},
   "outputs": [],
   "source": [
    "import imf\n",
    "import numpy as np\n",
    "from scipy import stats\n",
    "from scipy.stats import rv_continuous\n",
    "from scipy import special\n",
    "from sympy import lowergamma\n",
    "from scipy import integrate\n",
    "from sympy.utilities.lambdify import lambdify\n",
    "import mpmath"
   ]
  },
  {
   "cell_type": "code",
   "execution_count": 2,
   "metadata": {},
   "outputs": [],
   "source": [
    "# Matplotlib\n",
    "import matplotlib.pyplot as plt\n",
    "%matplotlib inline\n",
    "plt.rcParams['figure.figsize'] = [10, 10]"
   ]
  },
  {
   "cell_type": "code",
   "execution_count": 129,
   "metadata": {},
   "outputs": [],
   "source": [
    "# Create a function that returns the PDF of the Schechter function\n",
    "# Empirical virgo-cluster dE distribution taken from \n",
    "# Sanchez-Janssen 2016, ApJ 820, 69 doi:10.3847/0004-637X/820/1/69\n",
    "# Normalize PDF via numerical integral (it was pretty close to normalized to begin with)\n",
    "# While it's not necessary to add the _cdf routine, it speeds up the rvs draws by a huge factor\n",
    "class Schechter(rv_continuous):\n",
    "    def __init__(self,alpha,mstar,mmin=1.e5,**args):\n",
    "        self.mmin = mmin\n",
    "        self.mmax = 1.e13\n",
    "        self.alpha = alpha\n",
    "        self.mstar = mstar\n",
    "        super(Schechter,self).__init__(a=self.mmin,b=self.mmax,**args)\n",
    "        self.integral = mpmath.fp.gammainc(-self.alpha+1.,self.mmin/self.mstar,self.mmax/self.mstar)\n",
    "    def _pdf(self,m):\n",
    "        x = m/self.mstar\n",
    "        return (x)**-self.alpha * np.exp(-x) / self.integral\n",
    "    def _cdf(self,m):\n",
    "        if type(m) == type(np.array([0])):\n",
    "            arr = [mpmath.fp.gammainc(-self.alpha+1.,self.mmin/self.mstar,x) for x in m/self.mstar]\n",
    "            return np.array(arr)/self.integral\n",
    "        else:\n",
    "            return mpmath.fp.gammainc(-self.alpha+1.,self.mmin/self.mstar,m/self.mstar)/self.integral"
   ]
  },
  {
   "cell_type": "code",
   "execution_count": 134,
   "metadata": {},
   "outputs": [
    {
     "data": {
      "text/plain": [
       "(142.23324533663333, 1.0)"
      ]
     },
     "execution_count": 134,
     "metadata": {},
     "output_type": "execute_result"
    }
   ],
   "source": [
    "mf = Schechter(1.3,3.e10)\n",
    "mf.mmin/mf.mstar\n",
    "mf.integral,mf.cdf(1.e13)"
   ]
  },
  {
   "cell_type": "code",
   "execution_count": 108,
   "metadata": {},
   "outputs": [
    {
     "data": {
      "text/plain": [
       "[<matplotlib.lines.Line2D at 0x124a5e2e8>]"
      ]
     },
     "execution_count": 108,
     "metadata": {},
     "output_type": "execute_result"
    },
    {
     "data": {
      "image/png": "[encoded data removed]",
      "text/plain": [
       "<Figure size 432x288 with 1 Axes>"
      ]
     },
     "metadata": {
      "needs_background": "light"
     },
     "output_type": "display_data"
    }
   ],
   "source": [
    "mf = Schechter(1.3,3.e10)\n",
    "logm=np.arange(6,13,0.01)\n",
    "m = 10.**logm\n",
    "#mf.cdf(m)\n",
    "plt.plot(logm,mf.cdf(m))"
   ]
  },
  {
   "cell_type": "code",
   "execution_count": 109,
   "metadata": {},
   "outputs": [
    {
     "data": {
      "text/plain": [
       "0.5659525602979332"
      ]
     },
     "execution_count": 109,
     "metadata": {},
     "output_type": "execute_result"
    }
   ],
   "source": [
    "mf = Schechter(1.3,3.e10)\n",
    "mf.pdf(1.e9)"
   ]
  },
  {
   "cell_type": "code",
   "execution_count": 184,
   "metadata": {},
   "outputs": [
    {
     "data": {
      "text/plain": [
       "array([1.00000000e+05, 1.25892541e+05, 1.58489319e+05, 1.99526231e+05,\n",
       "       2.51188643e+05, 3.16227766e+05, 3.98107171e+05, 5.01187234e+05,\n",
       "       6.30957344e+05, 7.94328235e+05, 1.00000000e+06, 1.25892541e+06,\n",
       "       1.58489319e+06, 1.99526231e+06, 2.51188643e+06, 3.16227766e+06,\n",
       "       3.98107171e+06, 5.01187234e+06, 6.30957344e+06, 7.94328235e+06,\n",
       "       1.00000000e+07, 1.25892541e+07, 1.58489319e+07, 1.99526231e+07,\n",
       "       2.51188643e+07, 3.16227766e+07, 3.98107171e+07, 5.01187234e+07,\n",
       "       6.30957344e+07, 7.94328235e+07, 1.00000000e+08, 1.25892541e+08,\n",
       "       1.58489319e+08, 1.99526231e+08, 2.51188643e+08, 3.16227766e+08,\n",
       "       3.98107171e+08, 5.01187234e+08, 6.30957344e+08, 7.94328235e+08,\n",
       "       1.00000000e+09, 1.25892541e+09, 1.58489319e+09, 1.99526231e+09,\n",
       "       2.51188643e+09, 3.16227766e+09, 3.98107171e+09, 5.01187234e+09,\n",
       "       6.30957344e+09, 7.94328235e+09, 1.00000000e+10, 1.25892541e+10,\n",
       "       1.58489319e+10, 1.99526231e+10, 2.51188643e+10, 3.16227766e+10,\n",
       "       3.98107171e+10, 5.01187234e+10, 6.30957344e+10, 7.94328235e+10,\n",
       "       1.00000000e+11, 1.25892541e+11, 1.58489319e+11, 1.99526231e+11,\n",
       "       2.51188643e+11, 3.16227766e+11, 3.98107171e+11, 5.01187234e+11,\n",
       "       6.30957344e+11, 7.94328235e+11, 1.00000000e+12, 1.25892541e+12,\n",
       "       1.58489319e+12, 1.99526231e+12, 2.51188643e+12, 3.16227766e+12,\n",
       "       3.98107171e+12, 5.01187234e+12, 6.30957344e+12, 7.94328235e+12])"
      ]
     },
     "execution_count": 184,
     "metadata": {},
     "output_type": "execute_result"
    }
   ],
   "source": [
    "logm=np.arange(5,13,0.1)\n",
    "m = 10.**logm\n",
    "n = 1.e-4 * mf.pdf(m)\n",
    "m"
   ]
  },
  {
   "cell_type": "code",
   "execution_count": 186,
   "metadata": {},
   "outputs": [
    {
     "data": {
      "text/plain": [
       "(5, 11)"
      ]
     },
     "execution_count": 186,
     "metadata": {},
     "output_type": "execute_result"
    },
    {
     "data": {
      "image/png": "[encoded data removed]",
      "text/plain": [
       "<Figure size 432x288 with 1 Axes>"
      ]
     },
     "metadata": {
      "needs_background": "light"
     },
     "output_type": "display_data"
    }
   ],
   "source": [
    "plt.plot(logm,np.log10(n*(m/mf.mstar)))\n",
    "plt.ylim(-7.5,-4.5)\n",
    "plt.xlim(5,11)"
   ]
  },
  {
   "cell_type": "code",
   "execution_count": 139,
   "metadata": {},
   "outputs": [],
   "source": [
    "masses = mf.rvs(size=10000)"
   ]
  },
  {
   "cell_type": "code",
   "execution_count": 183,
   "metadata": {},
   "outputs": [
    {
     "data": {
      "text/plain": [
       "(5, 11)"
      ]
     },
     "execution_count": 183,
     "metadata": {},
     "output_type": "execute_result"
    },
    {
     "data": {
      "image/png": "[encoded data removed]",
      "text/plain": [
       "<Figure size 432x288 with 1 Axes>"
      ]
     },
     "metadata": {
      "needs_background": "light"
     },
     "output_type": "display_data"
    }
   ],
   "source": [
    "logm = np.log10(masses)\n",
    "dndlogm,edges = np.histogram(logm,100)\n",
    "plt.bar(edges[:-1], np.log10(dndlogm), width=np.diff(edges), ec=\"k\", align=\"edge\")\n",
    "plt.xlim(5,11)"
   ]
  },
  {
   "cell_type": "code",
   "execution_count": 45,
   "metadata": {},
   "outputs": [
    {
     "data": {
      "text/plain": [
       "11"
      ]
     },
     "execution_count": 45,
     "metadata": {},
     "output_type": "execute_result"
    }
   ],
   "source": [
    "len(edges)"
   ]
  },
  {
   "cell_type": "code",
   "execution_count": 21,
   "metadata": {},
   "outputs": [],
   "source": [
    "from sympy import uppergamma, lowergamma, symbols, lambdify"
   ]
  },
  {
   "cell_type": "code",
   "execution_count": 35,
   "metadata": {},
   "outputs": [
    {
     "data": {
      "text/latex": [
       "$\\displaystyle 288.18639489508$"
      ],
      "text/plain": [
       "288.186394895080"
      ]
     },
     "execution_count": 35,
     "metadata": {},
     "output_type": "execute_result"
    }
   ],
   "source": [
    "expr=lowergamma(-0.3,40.)-lowergamma(-0.3,3.33e-7)\n",
    "expr.evalf()"
   ]
  },
  {
   "cell_type": "code",
   "execution_count": 36,
   "metadata": {},
   "outputs": [
    {
     "data": {
      "text/plain": [
       "288.1863948950803"
      ]
     },
     "execution_count": 36,
     "metadata": {},
     "output_type": "execute_result"
    }
   ],
   "source": [
    "result = mpmath.fp.gammainc(-0.3,3.33e-7,40.)\n",
    "result"
   ]
  },
  {
   "cell_type": "code",
   "execution_count": 29,
   "metadata": {},
   "outputs": [
    {
     "data": {
      "text/plain": [
       "nan"
      ]
     },
     "execution_count": 29,
     "metadata": {},
     "output_type": "execute_result"
    }
   ],
   "source": [
    "special.gammainc(-0.3,4)-special.gammainc(-0.3,0.0001)"
   ]
  },
  {
   "cell_type": "code",
   "execution_count": 20,
   "metadata": {},
   "outputs": [
    {
     "ename": "NameError",
     "evalue": "name 'lowergamma' is not defined",
     "output_type": "error",
     "traceback": [
      "\u001b[0;31m---------------------------------------------------------------------------\u001b[0m",
      "\u001b[0;31mNameError\u001b[0m                                 Traceback (most recent call last)",
      "\u001b[0;32m<ipython-input-20-51089579f7d5>\u001b[0m in \u001b[0;36m<module>\u001b[0;34m\u001b[0m\n\u001b[1;32m      4\u001b[0m \u001b[0mfunc\u001b[0m \u001b[0;34m=\u001b[0m \u001b[0mlambdify\u001b[0m\u001b[0;34m(\u001b[0m\u001b[0mx\u001b[0m\u001b[0;34m,\u001b[0m \u001b[0mexpr\u001b[0m\u001b[0;34m,\u001b[0m\u001b[0;34m'numpy'\u001b[0m\u001b[0;34m)\u001b[0m\u001b[0;34m\u001b[0m\u001b[0;34m\u001b[0m\u001b[0m\n\u001b[1;32m      5\u001b[0m \u001b[0mm\u001b[0m \u001b[0;34m=\u001b[0m \u001b[0mnp\u001b[0m\u001b[0;34m.\u001b[0m\u001b[0marange\u001b[0m\u001b[0;34m(\u001b[0m\u001b[0;36m0.2\u001b[0m\u001b[0;34m,\u001b[0m\u001b[0;36m5.\u001b[0m\u001b[0;34m,\u001b[0m\u001b[0;36m0.1\u001b[0m\u001b[0;34m)\u001b[0m\u001b[0;34m\u001b[0m\u001b[0;34m\u001b[0m\u001b[0m\n\u001b[0;32m----> 6\u001b[0;31m \u001b[0mfunc\u001b[0m\u001b[0;34m(\u001b[0m\u001b[0mm\u001b[0m\u001b[0;34m)\u001b[0m\u001b[0;34m\u001b[0m\u001b[0;34m\u001b[0m\u001b[0m\n\u001b[0m",
      "\u001b[0;32m<lambdifygenerated-1>\u001b[0m in \u001b[0;36m_lambdifygenerated\u001b[0;34m(x)\u001b[0m\n\u001b[1;32m      1\u001b[0m \u001b[0;32mdef\u001b[0m \u001b[0m_lambdifygenerated\u001b[0m\u001b[0;34m(\u001b[0m\u001b[0mx\u001b[0m\u001b[0;34m)\u001b[0m\u001b[0;34m:\u001b[0m\u001b[0;34m\u001b[0m\u001b[0;34m\u001b[0m\u001b[0m\n\u001b[0;32m----> 2\u001b[0;31m     \u001b[0;32mreturn\u001b[0m \u001b[0;34m(\u001b[0m\u001b[0mlowergamma\u001b[0m\u001b[0;34m(\u001b[0m\u001b[0;34m-\u001b[0m\u001b[0;36m0.3\u001b[0m\u001b[0;34m,\u001b[0m \u001b[0mx\u001b[0m\u001b[0;34m)\u001b[0m \u001b[0;34m+\u001b[0m \u001b[0;36m6.93016439054321\u001b[0m\u001b[0;34m)\u001b[0m\u001b[0;34m\u001b[0m\u001b[0;34m\u001b[0m\u001b[0m\n\u001b[0m",
      "\u001b[0;31mNameError\u001b[0m: name 'lowergamma' is not defined"
     ]
    }
   ],
   "source": [
    "x = symbols('x')\n",
    "expr=lowergamma(-0.3,x)-lowergamma(-0.3,0.1)\n",
    "expr\n",
    "func = lambdify(x, expr,'numpy')\n",
    "m = np.arange(0.2,5.,0.1)\n",
    "func(m)"
   ]
  },
  {
   "cell_type": "code",
   "execution_count": 59,
   "metadata": {},
   "outputs": [
    {
     "ename": "AttributeError",
     "evalue": "'function' object has no attribute 'mmin'",
     "output_type": "error",
     "traceback": [
      "\u001b[0;31m---------------------------------------------------------------------------\u001b[0m",
      "\u001b[0;31mAttributeError\u001b[0m                            Traceback (most recent call last)",
      "\u001b[0;32m<ipython-input-59-a479469690b6>\u001b[0m in \u001b[0;36m<module>\u001b[0;34m\u001b[0m\n\u001b[0;32m----> 1\u001b[0;31m \u001b[0mimf\u001b[0m\u001b[0;34m.\u001b[0m\u001b[0mmake_cluster\u001b[0m\u001b[0;34m(\u001b[0m\u001b[0;36m10\u001b[0m\u001b[0;34m,\u001b[0m\u001b[0mmassfunc\u001b[0m\u001b[0;34m=\u001b[0m\u001b[0;34m'schechter'\u001b[0m\u001b[0;34m,\u001b[0m\u001b[0mbeta\u001b[0m\u001b[0;34m=\u001b[0m\u001b[0;36m1.3\u001b[0m\u001b[0;34m,\u001b[0m\u001b[0mm0\u001b[0m\u001b[0;34m=\u001b[0m\u001b[0;36m1.\u001b[0m\u001b[0;34m,\u001b[0m\u001b[0mmmin\u001b[0m\u001b[0;34m=\u001b[0m\u001b[0;36m0.01\u001b[0m\u001b[0;34m)\u001b[0m\u001b[0;34m\u001b[0m\u001b[0;34m\u001b[0m\u001b[0m\n\u001b[0m",
      "\u001b[0;32m~/anaconda3/envs/astroconda36/lib/python3.6/site-packages/imf/imf.py\u001b[0m in \u001b[0;36mmake_cluster\u001b[0;34m(mcluster, massfunc, verbose, silent, tolerance, stop_criterion, mmax, **kwargs)\u001b[0m\n\u001b[1;32m    616\u001b[0m     \u001b[0;31m#          (nsamp,mtot,mcluster)))\u001b[0m\u001b[0;34m\u001b[0m\u001b[0;34m\u001b[0m\u001b[0;34m\u001b[0m\u001b[0m\n\u001b[1;32m    617\u001b[0m \u001b[0;34m\u001b[0m\u001b[0m\n\u001b[0;32m--> 618\u001b[0;31m     \u001b[0;32mif\u001b[0m \u001b[0;34m(\u001b[0m\u001b[0mmassfunc\u001b[0m\u001b[0;34m,\u001b[0m \u001b[0mget_massfunc\u001b[0m\u001b[0;34m(\u001b[0m\u001b[0mmassfunc\u001b[0m\u001b[0;34m)\u001b[0m\u001b[0;34m.\u001b[0m\u001b[0mmmin\u001b[0m\u001b[0;34m,\u001b[0m \u001b[0mmmax\u001b[0m\u001b[0;34m)\u001b[0m \u001b[0;32min\u001b[0m \u001b[0mexpectedmass_cache\u001b[0m\u001b[0;34m:\u001b[0m\u001b[0;34m\u001b[0m\u001b[0;34m\u001b[0m\u001b[0m\n\u001b[0m\u001b[1;32m    619\u001b[0m         expected_mass = expectedmass_cache[(massfunc,\n\u001b[1;32m    620\u001b[0m                                             get_massfunc(massfunc).mmin, mmax)]\n",
      "\u001b[0;31mAttributeError\u001b[0m: 'function' object has no attribute 'mmin'"
     ]
    }
   ],
   "source": [
    "imf.make_cluster(10,massfunc='schechter',beta=1.3,m0=1.,mmin=0.01)"
   ]
  },
  {
   "cell_type": "code",
   "execution_count": 18,
   "metadata": {},
   "outputs": [
    {
     "data": {
      "text/plain": [
       "6.396830235796179"
      ]
     },
     "execution_count": 18,
     "metadata": {},
     "output_type": "execute_result"
    }
   ],
   "source": [
    "result"
   ]
  },
  {
   "cell_type": "code",
   "execution_count": 187,
   "metadata": {},
   "outputs": [],
   "source": [
    "import numpy as np\n",
    "def simulate_schechter_distribution(alpha, M_star, M_min, N):\n",
    "    \"\"\" \n",
    "        Adapted from https://gist.github.com/joezuntz/5056136\n",
    "        Based on algorithm in http://www.math.leidenuniv.nl/~gill/teaching/astro/stanSchechter.pdf\n",
    "    \"\"\"\n",
    "    n=0\n",
    "    output = []\n",
    "    while n<N:\n",
    "        M = np.random.gamma(scale=M_star, shape=alpha+2, size=N)\n",
    "        M = M[M>M_min]\n",
    "        u = np.random.uniform(size=M.size)\n",
    "        M = M[u<M_min/M]\n",
    "        output.append(M)\n",
    "        n+=M.size\n",
    "    return np.concatenate(output)[:N]"
   ]
  },
  {
   "cell_type": "code",
   "execution_count": 188,
   "metadata": {},
   "outputs": [],
   "source": [
    "masses = simulate_schechter_distribution(-1.3,3.e10,1.e5,20000)"
   ]
  },
  {
   "cell_type": "code",
   "execution_count": 189,
   "metadata": {},
   "outputs": [
    {
     "name": "stderr",
     "output_type": "stream",
     "text": [
      "/Users/hcferguson/anaconda3/envs/astroconda36/lib/python3.6/site-packages/ipykernel_launcher.py:3: RuntimeWarning: divide by zero encountered in log10\n",
      "  This is separate from the ipykernel package so we can avoid doing imports until\n"
     ]
    },
    {
     "data": {
      "text/plain": [
       "[<matplotlib.lines.Line2D at 0x128bc4b00>]"
      ]
     },
     "execution_count": 189,
     "metadata": {},
     "output_type": "execute_result"
    },
    {
     "data": {
      "image/png": "[encoded data removed]",
      "text/plain": [
       "<Figure size 432x288 with 1 Axes>"
      ]
     },
     "metadata": {
      "needs_background": "light"
     },
     "output_type": "display_data"
    }
   ],
   "source": [
    "logm = np.log10(masses)\n",
    "dndlogm,edges = np.histogram(logm,100)\n",
    "plt.bar(edges[:-1], np.log10(dndlogm), width=np.diff(edges), ec=\"k\", align=\"edge\",alpha=0.5)\n",
    "mf = Schechter(1.3,3.e10,mmin=1.e5)\n",
    "n = mf.pdf(10.**edges[:-1])\n",
    "plt.plot(edges[:-1],np.log10(20000.*n*10**edges[:-1]/3.e10)-0.9)\n",
    "#n"
   ]
  },
  {
   "cell_type": "code",
   "execution_count": 190,
   "metadata": {},
   "outputs": [
    {
     "data": {
      "text/plain": [
       "20000"
      ]
     },
     "execution_count": 190,
     "metadata": {},
     "output_type": "execute_result"
    }
   ],
   "source": [
    "len(masses)"
   ]
  },
  {
   "cell_type": "code",
   "execution_count": null,
   "metadata": {},
   "outputs": [],
   "source": []
  }
 ],
 "metadata": {
  "kernelspec": {
   "display_name": "Python 3",
   "language": "python",
   "name": "python3"
  },
  "language_info": {
   "codemirror_mode": {
    "name": "ipython",
    "version": 3
   },
   "file_extension": ".py",
   "mimetype": "text/x-python",
   "name": "python",
   "nbconvert_exporter": "python",
   "pygments_lexer": "ipython3",
   "version": "3.6.8"
  }
 },
 "nbformat": 4,
 "nbformat_minor": 2
}
