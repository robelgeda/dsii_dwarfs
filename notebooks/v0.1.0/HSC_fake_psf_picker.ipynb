{
 "cells": [
  {
   "cell_type": "markdown",
   "metadata": {},
   "source": [
    "# Draw from a set of Moffat profiles to make oversampled PSFs roughly appropriate to HSC\n",
    "\n",
    "This is a stopgap...in working with the real HSC data, we'll grab the PSF appropriate for each image from the archive and use that. \n",
    "\n"
   ]
  },
  {
   "cell_type": "code",
   "execution_count": 16,
   "metadata": {},
   "outputs": [],
   "source": [
    "import warnings\n",
    "import numpy as np\n",
    "\n",
    "from astropy.modeling.functional_models import Moffat2D\n",
    "from astropy.io import fits\n",
    "from astropy.modeling import models, fitting\n",
    "from astropy.table import Table\n",
    "from scipy import stats"
   ]
  },
  {
   "cell_type": "code",
   "execution_count": 17,
   "metadata": {},
   "outputs": [],
   "source": [
    "# Matplotlib\n",
    "import matplotlib.pyplot as plt\n",
    "%matplotlib inline"
   ]
  },
  {
   "cell_type": "code",
   "execution_count": 18,
   "metadata": {},
   "outputs": [],
   "source": [
    "plt.rcParams['figure.figsize'] = [10, 10]"
   ]
  },
  {
   "cell_type": "markdown",
   "metadata": {},
   "source": [
    "There is info on the FWHM distribution for Subaru at https://www.naoj.org/Observing/Telescope/ImageQuality/Seeing/. We'll use this to guide a probability distribution for the FWHM distribution. I'm not finding any info on the distribution of the Moffat parameters, so leave it at varying gamma for now. The distribution is binned at 0.1\" intervals."
   ]
  },
  {
   "cell_type": "code",
   "execution_count": 19,
   "metadata": {},
   "outputs": [
    {
     "data": {
      "text/html": [
       "<i>Table length=5</i>\n",
       "<table id=\"table4699315504\" class=\"table-striped table-bordered table-condensed\">\n",
       "<thead><tr><th>fwhm</th><th>freq</th></tr></thead>\n",
       "<thead><tr><th>float64</th><th>float64</th></tr></thead>\n",
       "<tr><td>0.047</td><td>0.0006027</td></tr>\n",
       "<tr><td>0.149</td><td>0.0008349</td></tr>\n",
       "<tr><td>0.249</td><td>0.011</td></tr>\n",
       "<tr><td>0.346</td><td>0.113</td></tr>\n",
       "<tr><td>0.448</td><td>0.224</td></tr>\n",
       "</table>"
      ],
      "text/plain": [
       "<Table length=5>\n",
       "  fwhm     freq  \n",
       "float64  float64 \n",
       "------- ---------\n",
       "  0.047 0.0006027\n",
       "  0.149 0.0008349\n",
       "  0.249     0.011\n",
       "  0.346     0.113\n",
       "  0.448     0.224"
      ]
     },
     "execution_count": 19,
     "metadata": {},
     "output_type": "execute_result"
    }
   ],
   "source": [
    "t = Table.read('data/subaru_seeing.txt',format='ascii.commented_header')\n",
    "t['freq'].sum()\n",
    "t[:5]"
   ]
  },
  {
   "cell_type": "markdown",
   "metadata": {},
   "source": [
    "Create a picker for the PSF. The `fwhm` routine is just for validating that the distribution \n",
    "looks okay in comparison to the Subaru data. The `get_oversampled_psf` routine returns the oversampled PSF. \n",
    "The native Subaru pixel scale is 0.17\"/pixels and these are oversampled by default by a factor of 4.\n",
    "We're feeding it a FITS file with this oversampling as a template so we can get a WCS on it, for what it's worth. We won't bother writing out the file, but just return the Moffat parameters gamma (in arcsec) and alpha so we can put them in a table."
   ]
  },
  {
   "cell_type": "code",
   "execution_count": null,
   "metadata": {},
   "outputs": [],
   "source": [
    "class HSCMoffatPSFPicker:\n",
    "    def __init__(self,template_psf_file='generated_data/moffat_oversampled_psf.fits',\n",
    "                 oversampling=4,gamma0=2.3,alpha0=1.9,sigma_log_gamma=0.15):\n",
    "        hdu = fits.open(template_psf_file)\n",
    "        template_psf = hdu[0].data\n",
    "        self.x0,self.y0 = self.find_center(template_psf)\n",
    "        self.x,self.y = np.mgrid[:template_psf.shape[0], :template_psf.shape[1]]\n",
    "        self.oversampling = oversampling\n",
    "        self.c1 = 0.30\n",
    "        self.sigma = sigma_log_gamma\n",
    "        self.gamma0 = gamma0*oversampling\n",
    "        self.alpha = alpha0\n",
    "        self.gscatter = stats.gumbel_r(loc=np.log10(self.gamma0),scale=self.sigma) # Skewed distribution\n",
    "    def find_center(self,array):\n",
    "        return (np.array(array.shape)-1)/2\n",
    "    def gamma(self,size=1):\n",
    "        return 10.**self.gscatter.rvs(size=size)\n",
    "    def fwhm(self,size=1):\n",
    "        gammas = self.gamma(size=size)\n",
    "        fwhm = []\n",
    "        for g in gammas:\n",
    "            m2d = models.Moffat2D(x_0=self.x0,y_0=self.y0,gamma=g,alpha=self.alpha)\n",
    "            fwhm += [m2d.fwhm/self.oversampling]\n",
    "        return np.array(fwhm)\n",
    "    def get_oversampled_psf(self):\n",
    "        gamma = self.gamma(size=1)[0]\n",
    "        alpha = self.alpha\n",
    "        print(self.x0,self.y0,gamma,alpha)\n",
    "        m2d = models.Moffat2D(x_0=self.x0,y_0=self.y0,gamma=gamma,alpha=alpha)\n",
    "        psf = m2d(self.x,self.y) \n",
    "        return gamma,alpha,psf"
   ]
  },
  {
   "cell_type": "code",
   "execution_count": 20,
   "metadata": {},
   "outputs": [],
   "source": [
    "# Test the script version\n",
    "from psf_picker import HSCMoffatPSFPicker"
   ]
  },
  {
   "cell_type": "code",
   "execution_count": 26,
   "metadata": {},
   "outputs": [],
   "source": [
    "pf = HSCMoffatPSFPicker(max_gamma_factor=400.)"
   ]
  },
  {
   "cell_type": "markdown",
   "metadata": {},
   "source": [
    "Get a bunch of random FWHMs and convert to arcseconds"
   ]
  },
  {
   "cell_type": "code",
   "execution_count": 27,
   "metadata": {},
   "outputs": [
    {
     "data": {
      "text/plain": [
       "(0.30687486628084965, 2.644269242871741)"
      ]
     },
     "execution_count": 27,
     "metadata": {},
     "output_type": "execute_result"
    }
   ],
   "source": [
    "fwhms = pf.fwhm(size=10000)*0.17 # HSC pixel scale is 0.17\n",
    "np.percentile(fwhms,1.),np.percentile(fwhms,99.)"
   ]
  },
  {
   "cell_type": "code",
   "execution_count": 28,
   "metadata": {},
   "outputs": [
    {
     "data": {
      "text/plain": [
       "[<matplotlib.lines.Line2D at 0x119fad9b0>]"
      ]
     },
     "execution_count": 28,
     "metadata": {},
     "output_type": "execute_result"
    },
    {
     "data": {
      "image/png": "[encoded data removed]",
      "text/plain": [
       "<Figure size 720x720 with 1 Axes>"
      ]
     },
     "metadata": {
      "needs_background": "light"
     },
     "output_type": "display_data"
    }
   ],
   "source": [
    "n,bins,patches = plt.hist(fwhms,np.arange(0.,2.5,0.02),density=True)\n",
    "plt.xlim(0,1.7)\n",
    "plt.plot(t['fwhm'],t['freq']/0.1)"
   ]
  },
  {
   "cell_type": "markdown",
   "metadata": {},
   "source": [
    "Set a maximum gamma (relative to the \"mean\") because the HSC survey probably observes only in good conditions. Need to find out what the distribution really is, or better still just go grab real PSFs."
   ]
  },
  {
   "cell_type": "code",
   "execution_count": 29,
   "metadata": {},
   "outputs": [
    {
     "data": {
      "text/plain": [
       "[<matplotlib.lines.Line2D at 0x11a7a7128>]"
      ]
     },
     "execution_count": 29,
     "metadata": {},
     "output_type": "execute_result"
    },
    {
     "data": {
      "image/png": "[encoded data removed]",
      "text/plain": [
       "<Figure size 720x720 with 1 Axes>"
      ]
     },
     "metadata": {
      "needs_background": "light"
     },
     "output_type": "display_data"
    }
   ],
   "source": [
    "pf = HSCMoffatPSFPicker(max_gamma_factor=4.)\n",
    "#gammas = pf.gamma(size=10000)/4.\n",
    "fwhms = pf.fwhm(size=10000)*0.17 # HSC pixel scale is 0.17\n",
    "np.percentile(fwhms,1.),np.percentile(fwhms,99.)\n",
    "n,bins,patches = plt.hist(fwhms,np.arange(0.,2.5,0.02),density=True)\n",
    "plt.xlim(0,1.7)\n",
    "plt.plot(t['fwhm'],t['freq']/0.1)"
   ]
  },
  {
   "cell_type": "code",
   "execution_count": null,
   "metadata": {},
   "outputs": [],
   "source": [
    "g,a,psf = pf.get_oversampled_psf()\n",
    "plt.imshow(psf)"
   ]
  }
 ],
 "metadata": {
  "kernelspec": {
   "display_name": "Python 3",
   "language": "python",
   "name": "python3"
  },
  "language_info": {
   "codemirror_mode": {
    "name": "ipython",
    "version": 3
   },
   "file_extension": ".py",
   "mimetype": "text/x-python",
   "name": "python",
   "nbconvert_exporter": "python",
   "pygments_lexer": "ipython3",
   "version": "3.6.8"
  }
 },
 "nbformat": 4,
 "nbformat_minor": 2
}
