{
 "cells": [
  {
   "cell_type": "code",
   "execution_count": 15,
   "metadata": {},
   "outputs": [],
   "source": [
    "import os\n",
    "from os import system \n",
    "from glob import glob\n",
    "\n",
    "\n",
    "from math import factorial\n",
    "\n",
    "import numpy as np\n",
    "\n",
    "from scipy import integrate\n",
    "from scipy.special import gamma, gammainc\n",
    "\n",
    "\n",
    "from astropy.io import fits\n",
    "from astropy.modeling import models, fitting\n",
    "from astropy.table import Table\n",
    "from astropy import stats\n",
    "from astropy.wcs import WCS\n",
    "from astropy import utils\n",
    "from astropy.convolution import convolve_fft\n",
    "from astropy.stats import sigma_clipped_stats\n",
    "from astropy import modeling\n"
   ]
  },
  {
   "cell_type": "code",
   "execution_count": 16,
   "metadata": {},
   "outputs": [],
   "source": [
    "# Matplotlib\n",
    "# Visualization\n",
    "import astropy.visualization as vis\n",
    "\n",
    "%matplotlib inline\n",
    "from matplotlib import pyplot as plt\n",
    "import matplotlib.patches as patches"
   ]
  },
  {
   "cell_type": "code",
   "execution_count": 17,
   "metadata": {},
   "outputs": [],
   "source": [
    "class DwarfSersic2D(modeling.models.Sersic2D):\n",
    "    \n",
    "    def __init__(self, *args, **kwargs):\n",
    "        super().__init__(*args, **kwargs)\n",
    "        \n",
    "        self.normalization = self.compute_normalization()\n",
    "        \n",
    "        self.model_1d = models.Sersic1D(self.amplitude, self.r_eff, self.n)\n",
    "        \n",
    "    def compute_normalization(self):\n",
    "        x = self.x_0.value \n",
    "        y = self.y_0.value\n",
    "        delta = self.r_eff.value * 8\n",
    "        return integrate.dblquad(self, x-delta, x+delta, y-delta, y+delta)[0]\n",
    "        \n",
    "    def compute_npix(self, noise_level, total_flux, max_pix=500):\n",
    "        x = np.arange(0, max_pix, 1)\n",
    "\n",
    "        values = total_flux*(self.model_1d(x)/self.normalization)\n",
    "\n",
    "        if noise_level > values[0]:\n",
    "            raise Exception(\"Noise too large, max noise = {}\".format(values[0]))\n",
    "\n",
    "        if noise_level < values[-1]:\n",
    "            raise Exception(\"Noise too small, min noise = {}\".format(values[-1]))\n",
    "\n",
    "        argmin = abs(values - noise_level).argmin()\n",
    "\n",
    "        return int(x[argmin]) "
   ]
  },
  {
   "cell_type": "markdown",
   "metadata": {},
   "source": [
    "# Make Model"
   ]
  },
  {
   "cell_type": "markdown",
   "metadata": {},
   "source": [
    "#### Note! N = no_pix // 2 and small \"n\" is the Sersic index"
   ]
  },
  {
   "cell_type": "code",
   "execution_count": 18,
   "metadata": {},
   "outputs": [],
   "source": [
    "model = DwarfSersic2D(\n",
    "            amplitude=1,\n",
    "            r_eff=100,\n",
    "            n=1,\n",
    "            x_0=0, y_0=0,\n",
    "            ellip=0.5,\n",
    "            theta=0.)"
   ]
  },
  {
   "cell_type": "code",
   "execution_count": 19,
   "metadata": {},
   "outputs": [
    {
     "data": {
      "text/plain": [
       "<matplotlib.image.AxesImage at 0x1213fc898>"
      ]
     },
     "execution_count": 19,
     "metadata": {},
     "output_type": "execute_result"
    },
    {
     "data": {
      "image/png": "[encoded data removed]",
      "text/plain": [
       "<Figure size 432x288 with 1 Axes>"
      ]
     },
     "metadata": {
      "needs_background": "light"
     },
     "output_type": "display_data"
    }
   ],
   "source": [
    "N = 200\n",
    "[x, y] = np.meshgrid(np.arange(-N, +N, 1), np.arange(-N, +N, 1))\n",
    "\n",
    "im_data = model(x,y)\n",
    "\n",
    "plt.imshow(im_data)"
   ]
  },
  {
   "cell_type": "markdown",
   "metadata": {},
   "source": [
    "# Check Normalization"
   ]
  },
  {
   "cell_type": "markdown",
   "metadata": {},
   "source": [
    "Check to see if normalization is the same as sum under r_eff * 20"
   ]
  },
  {
   "cell_type": "code",
   "execution_count": 7,
   "metadata": {},
   "outputs": [
    {
     "data": {
      "text/plain": [
       "59742.19997239601"
      ]
     },
     "execution_count": 7,
     "metadata": {},
     "output_type": "execute_result"
    }
   ],
   "source": [
    "model.normalization"
   ]
  },
  {
   "cell_type": "code",
   "execution_count": 8,
   "metadata": {},
   "outputs": [
    {
     "data": {
      "text/plain": [
       "(59742.51059019933, 59742.19997239601, 0.31061780331947375, 1.0000051993030632)"
      ]
     },
     "execution_count": 8,
     "metadata": {},
     "output_type": "execute_result"
    }
   ],
   "source": [
    "N = model.r_eff * 20\n",
    "x, y = np.meshgrid(np.arange(-N, +N, 1), np.arange(-N, +N, 1))\n",
    "\n",
    "im_data = model(x,y)\n",
    "\n",
    "im_data.sum(), model.normalization, im_data.sum() - model.normalization, im_data.sum()/model.normalization"
   ]
  },
  {
   "cell_type": "markdown",
   "metadata": {},
   "source": [
    "# Check npix"
   ]
  },
  {
   "cell_type": "code",
   "execution_count": 9,
   "metadata": {},
   "outputs": [
    {
     "data": {
      "text/plain": [
       "(600, 600)"
      ]
     },
     "execution_count": 9,
     "metadata": {},
     "output_type": "execute_result"
    }
   ],
   "source": [
    "N = int(model.r_eff * 3)\n",
    "x, y = np.meshgrid(np.arange(-N, +N, 1), np.arange(-N, +N, 1))\n",
    "\n",
    "im_data = model(x,y)\n",
    "im_data.shape"
   ]
  },
  {
   "cell_type": "code",
   "execution_count": 10,
   "metadata": {},
   "outputs": [
    {
     "data": {
      "text/plain": [
       "(456, 0.39067693473421755)"
      ]
     },
     "execution_count": 10,
     "metadata": {},
     "output_type": "execute_result"
    }
   ],
   "source": [
    "del_x = 156\n",
    "noise_level = im_data[N][N+del_x]\n",
    "N + del_x, noise_level"
   ]
  },
  {
   "cell_type": "code",
   "execution_count": 11,
   "metadata": {},
   "outputs": [
    {
     "data": {
      "text/plain": [
       "156"
      ]
     },
     "execution_count": 11,
     "metadata": {},
     "output_type": "execute_result"
    }
   ],
   "source": [
    "argmin = abs(im_data[N, N:] - noise_level).argmin()\n",
    "argmin"
   ]
  },
  {
   "cell_type": "markdown",
   "metadata": {},
   "source": [
    "Now make a function for the model"
   ]
  },
  {
   "cell_type": "code",
   "execution_count": 13,
   "metadata": {},
   "outputs": [
    {
     "data": {
      "text/plain": [
       "156"
      ]
     },
     "execution_count": 13,
     "metadata": {},
     "output_type": "execute_result"
    }
   ],
   "source": [
    "del_x = 156\n",
    "\n",
    "noise_level = im_data[N][N+del_x]\n",
    "total_flux = model.normalization\n",
    "max_npix=N\n",
    "\n",
    "x = np.arange(0, max_npix, 1)\n",
    "\n",
    "values = total_flux*(model.model_1d(x)/model.normalization)\n",
    "\n",
    "if noise_level > values[0]:\n",
    "    raise Exception(\"Noise too large, max noise = {}\".format(values[0]))\n",
    "\n",
    "if noise_level < values[-1]:\n",
    "    raise Exception(\"Noise too small, min noise = {}\".format(values[-1]))\n",
    "\n",
    "argmin = abs(values - noise_level).argmin()\n",
    "\n",
    "int(x[argmin]) "
   ]
  },
  {
   "cell_type": "markdown",
   "metadata": {},
   "source": [
    "Test the function"
   ]
  },
  {
   "cell_type": "code",
   "execution_count": 15,
   "metadata": {},
   "outputs": [
    {
     "data": {
      "text/plain": [
       "156"
      ]
     },
     "execution_count": 15,
     "metadata": {},
     "output_type": "execute_result"
    }
   ],
   "source": [
    "del_x = 156\n",
    "\n",
    "total_flux = 145646404889 # Some random number\n",
    "noise_level = total_flux * (im_data[N][N+del_x]/model.normalization)\n",
    "\n",
    "model.compute_npix(noise_level, total_flux, max_pix=N)"
   ]
  },
  {
   "cell_type": "markdown",
   "metadata": {},
   "source": [
    "# Oversampled"
   ]
  },
  {
   "cell_type": "code",
   "execution_count": 33,
   "metadata": {},
   "outputs": [
    {
     "data": {
      "text/plain": [
       "(600, 600)"
      ]
     },
     "execution_count": 33,
     "metadata": {},
     "output_type": "execute_result"
    }
   ],
   "source": [
    "N = int(model.r_eff * 3)\n",
    "x, y = np.meshgrid(np.arange(-N, +N, 1), np.arange(-N, +N, 1))\n",
    "\n",
    "im_data = model(x,y)\n",
    "im_data.shape"
   ]
  },
  {
   "cell_type": "code",
   "execution_count": 55,
   "metadata": {},
   "outputs": [
    {
     "data": {
      "text/plain": [
       "31"
      ]
     },
     "execution_count": 55,
     "metadata": {},
     "output_type": "execute_result"
    }
   ],
   "source": [
    "del_x = 156\n",
    "\n",
    "oversample = 5\n",
    "\n",
    "total_flux = 145646404889 # Some random number\n",
    "\n",
    "noise_level = 4762185.778510361 # in the actual image \n",
    "noise_level /= oversample # Downsample value\n",
    "\n",
    "model.compute_npix(noise_level, total_flux, max_pix=N) // oversample"
   ]
  },
  {
   "cell_type": "markdown",
   "metadata": {},
   "source": [
    "# Test rebin"
   ]
  },
  {
   "cell_type": "code",
   "execution_count": 5,
   "metadata": {},
   "outputs": [],
   "source": [
    "def rebin(a, *args):\n",
    "    \"\"\"\n",
    "    rebin ndarray data into a smaller ndarray of the same rank whose dimensions\n",
    "    are factors of the original dimensions. eg. An array with 6 columns and 4 rows\n",
    "    can be reduced to have 6,3,2 or 1 columns and 4,2 or 1 rows.\n",
    "    example usages:\n",
    "    >>> a=rand(6,4); b=rebin(a,3,2)\n",
    "    >>> a=rand(6); b=rebin(a,2)\n",
    "    \"\"\"\n",
    "    shape = a.shape\n",
    "    lenShape = len(shape)\n",
    "    factor = (np.asarray(shape) / np.asarray(args)).astype('int64')\n",
    "    #   print(np.asarray(shape).dtype,np.asarray(args).dtype,factor.dtype)\n",
    "    evList = ['a.reshape('] + \\\n",
    "             ['args[%d],factor[%d],' % (i, i) for i in range(lenShape)] + \\\n",
    "             [')'] + ['.sum(%d)' % (i + 1) for i in range(lenShape)] \\\n",
    "        #             + ['/factor[%d]'%i for i in range(lenShape)]\n",
    "    #   print(''.join(evList))\n",
    "    return eval(''.join(evList))"
   ]
  },
  {
   "cell_type": "code",
   "execution_count": 12,
   "metadata": {},
   "outputs": [
    {
     "data": {
      "text/plain": [
       "(array([[1., 1., 1., 1.],\n",
       "        [1., 1., 1., 1.],\n",
       "        [1., 1., 1., 1.],\n",
       "        [1., 1., 1., 1.],\n",
       "        [1., 1., 1., 1.],\n",
       "        [1., 1., 1., 1.]]), (6, 4))"
      ]
     },
     "execution_count": 12,
     "metadata": {},
     "output_type": "execute_result"
    }
   ],
   "source": [
    "a=np.random.rand(6,4)\n",
    "for i in range(len(a)):\n",
    "    a[i] = 1#np.arange(len(a[0]))#+(i*len(a[0]))\n",
    "a, a.shape"
   ]
  },
  {
   "cell_type": "code",
   "execution_count": 13,
   "metadata": {},
   "outputs": [],
   "source": [
    "b = rebin(a,3,2)"
   ]
  },
  {
   "cell_type": "code",
   "execution_count": 14,
   "metadata": {},
   "outputs": [
    {
     "data": {
      "text/plain": [
       "array([[4., 4.],\n",
       "       [4., 4.],\n",
       "       [4., 4.]])"
      ]
     },
     "execution_count": 14,
     "metadata": {},
     "output_type": "execute_result"
    }
   ],
   "source": [
    "b"
   ]
  }
 ],
 "metadata": {
  "kernelspec": {
   "display_name": "Python 3",
   "language": "python",
   "name": "python3"
  },
  "language_info": {
   "codemirror_mode": {
    "name": "ipython",
    "version": 3
   },
   "file_extension": ".py",
   "mimetype": "text/x-python",
   "name": "python",
   "nbconvert_exporter": "python",
   "pygments_lexer": "ipython3",
   "version": "3.7.3"
  }
 },
 "nbformat": 4,
 "nbformat_minor": 2
}
